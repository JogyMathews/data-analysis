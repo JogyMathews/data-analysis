{
 "cells": [
  {
   "cell_type": "code",
   "execution_count": 2,
   "metadata": {},
   "outputs": [],
   "source": [
    "import numpy as np\n"
   ]
  },
  {
   "cell_type": "code",
   "execution_count": 3,
   "metadata": {},
   "outputs": [
    {
     "data": {
      "text/plain": [
       "numpy.ndarray"
      ]
     },
     "execution_count": 3,
     "metadata": {},
     "output_type": "execute_result"
    }
   ],
   "source": [
    "mylist=[1,2,3]\n",
    "myarray = np.array(mylist)\n",
    "type(myarray)\n"
   ]
  },
  {
   "cell_type": "code",
   "execution_count": null,
   "metadata": {},
   "outputs": [],
   "source": []
  },
  {
   "cell_type": "markdown",
   "metadata": {},
   "source": [
    "arange"
   ]
  },
  {
   "cell_type": "code",
   "execution_count": null,
   "metadata": {},
   "outputs": [
    {
     "name": "stdout",
     "output_type": "stream",
     "text": [
      "[ 0  2  4  6  8 10]\n",
      "[[ 0  2  4]\n",
      " [ 6  8 10]]\n"
     ]
    }
   ],
   "source": [
    "arr=np.arange(0,11,2)\n",
    "print(arr)\n",
    "arr1=arr.reshape(2,3)\n",
    "print(arr1)"
   ]
  },
  {
   "cell_type": "code",
   "execution_count": null,
   "metadata": {},
   "outputs": [
    {
     "data": {
      "text/plain": [
       "array([[0, 0, 0, 0, 0],\n",
       "       [0, 0, 0, 0, 0]])"
      ]
     },
     "execution_count": 23,
     "metadata": {},
     "output_type": "execute_result"
    }
   ],
   "source": [
    "np.zeros((2,5)).astype(int)\n"
   ]
  },
  {
   "cell_type": "markdown",
   "metadata": {},
   "source": [
    "linspace - linearly spaced array"
   ]
  },
  {
   "cell_type": "code",
   "execution_count": null,
   "metadata": {},
   "outputs": [
    {
     "data": {
      "text/plain": [
       "array([ 0,  5, 10])"
      ]
     },
     "execution_count": 28,
     "metadata": {},
     "output_type": "execute_result"
    }
   ],
   "source": [
    "np.linspace(0,10,3)\n",
    "np.linspace(0,10,3).astype(int)"
   ]
  },
  {
   "cell_type": "markdown",
   "metadata": {},
   "source": [
    "eye - returns a 2d array with ones on the diagonals amd zeros elsewhere"
   ]
  },
  {
   "cell_type": "code",
   "execution_count": null,
   "metadata": {},
   "outputs": [
    {
     "data": {
      "text/plain": [
       "array([[1., 0., 0., 0., 0.],\n",
       "       [0., 1., 0., 0., 0.],\n",
       "       [0., 0., 1., 0., 0.],\n",
       "       [0., 0., 0., 1., 0.],\n",
       "       [0., 0., 0., 0., 1.]])"
      ]
     },
     "execution_count": 32,
     "metadata": {},
     "output_type": "execute_result"
    }
   ],
   "source": [
    "np.eye(5)"
   ]
  },
  {
   "cell_type": "markdown",
   "metadata": {},
   "source": [
    "random\n"
   ]
  },
  {
   "cell_type": "code",
   "execution_count": 34,
   "metadata": {},
   "outputs": [
    {
     "data": {
      "text/plain": [
       "array([0.85794562])"
      ]
     },
     "execution_count": 34,
     "metadata": {},
     "output_type": "execute_result"
    }
   ],
   "source": [
    "np.random.rand(1)\n"
   ]
  },
  {
   "cell_type": "code",
   "execution_count": null,
   "metadata": {},
   "outputs": [
    {
     "data": {
      "text/plain": [
       "array([[0.86125877, 0.42711942],\n",
       "       [0.45380177, 0.56780696],\n",
       "       [0.42074901, 0.61650337],\n",
       "       [0.12256687, 0.99025447],\n",
       "       [0.92969301, 0.41653314]])"
      ]
     },
     "execution_count": 117,
     "metadata": {},
     "output_type": "execute_result"
    }
   ],
   "source": [
    "np.random.rand(5,2)"
   ]
  },
  {
   "cell_type": "markdown",
   "metadata": {},
   "source": [
    "randint  to generate an integer randomly, within the range.\n",
    "We can also specify the number of integer required. It will be returned as array.\n",
    "Also specify tuple, for the array dimension."
   ]
  },
  {
   "cell_type": "code",
   "execution_count": null,
   "metadata": {},
   "outputs": [
    {
     "data": {
      "text/plain": [
       "array([4, 7, 1])"
      ]
     },
     "execution_count": 16,
     "metadata": {},
     "output_type": "execute_result"
    }
   ],
   "source": [
    "\n",
    "np.random.randint(1,10,3)"
   ]
  },
  {
   "cell_type": "code",
   "execution_count": null,
   "metadata": {},
   "outputs": [
    {
     "data": {
      "text/plain": [
       "array([[4, 3, 4],\n",
       "       [4, 8, 9]])"
      ]
     },
     "execution_count": 17,
     "metadata": {},
     "output_type": "execute_result"
    }
   ],
   "source": [
    "np.random.randint(1,10,(2,3))"
   ]
  },
  {
   "cell_type": "markdown",
   "metadata": {},
   "source": [
    "seed will preserve the random numbers.\n",
    "It is recommended not to use seed, which will have global impact.\n",
    "Instead create a rng object using np.random.defauflt_rng(seed)"
   ]
  },
  {
   "cell_type": "code",
   "execution_count": 37,
   "metadata": {},
   "outputs": [
    {
     "name": "stdout",
     "output_type": "stream",
     "text": [
      "[7 4 8]\n"
     ]
    }
   ],
   "source": [
    "np.random.seed(42) # not recommended\n",
    "print(np.random.randint(1,10,3))\n",
    "\n",
    "\n",
    "\n"
   ]
  },
  {
   "cell_type": "code",
   "execution_count": 36,
   "metadata": {},
   "outputs": [
    {
     "name": "stdout",
     "output_type": "stream",
     "text": [
      "0.7739560485559633\n",
      "8.777568795041047\n",
      "0.7739560485559633\n"
     ]
    }
   ],
   "source": [
    "rng =np.random.default_rng(42) #here 42 is seed\n",
    "print(rng.random())\n",
    "rng1 =np.random.default_rng(42) #here 42 is seed\n",
    "print(rng.uniform(high=20))\n",
    "print(rng1.uniform())"
   ]
  },
  {
   "cell_type": "markdown",
   "metadata": {},
   "source": [
    "SLICING\n",
    "    used to get portions of array"
   ]
  },
  {
   "cell_type": "code",
   "execution_count": 42,
   "metadata": {},
   "outputs": [
    {
     "name": "stdout",
     "output_type": "stream",
     "text": [
      "[1 2 3 4 5 6 7 8 9]\n",
      "[1 2 3 4 5 6 7 8 9]\n",
      "[1 2 3 4 5 6 7 8 9]\n",
      "[6 7 8 9]\n"
     ]
    }
   ],
   "source": [
    "ar=np.arange(1,10)\n",
    "print(ar)\n",
    "print(ar[0:])\n",
    "print(ar[:])\n",
    "print(ar[5:])"
   ]
  },
  {
   "cell_type": "markdown",
   "metadata": {},
   "source": [
    "Broadcasting\n",
    "    used to perform oerations at once to the entire array\n"
   ]
  },
  {
   "cell_type": "code",
   "execution_count": 55,
   "metadata": {},
   "outputs": [
    {
     "name": "stdout",
     "output_type": "stream",
     "text": [
      "[200 200 200 200 200  12  14  16  18]\n",
      "[100 100 100 100 100   6   7   8   9]\n",
      "[100 100 100 100 100]\n",
      "[100 100 100 100 100   6   7   8   9]\n"
     ]
    }
   ],
   "source": [
    "print(ar*2)\n",
    "print(ar)\n",
    "\n",
    "slice_of_array=ar[:5]\n",
    "slice_of_array[:]=100\n",
    "print(slice_of_array)\n",
    "print(ar)"
   ]
  },
  {
   "cell_type": "markdown",
   "metadata": {},
   "source": [
    "array copy\n",
    "use ar.copy to avoid above effect on array"
   ]
  },
  {
   "cell_type": "code",
   "execution_count": 1,
   "metadata": {},
   "outputs": [
    {
     "ename": "NameError",
     "evalue": "name 'ar' is not defined",
     "output_type": "error",
     "traceback": [
      "\u001b[1;31m---------------------------------------------------------------------------\u001b[0m",
      "\u001b[1;31mNameError\u001b[0m                                 Traceback (most recent call last)",
      "\u001b[1;32mc:\\Users\\jogym\\Documents\\Jogy\\Study\\python\\git_projects\\numpy\\numpy_basics.ipynb Cell 25'\u001b[0m in \u001b[0;36m<cell line: 1>\u001b[1;34m()\u001b[0m\n\u001b[1;32m----> <a href='vscode-notebook-cell:/c%3A/Users/jogym/Documents/Jogy/Study/python/git_projects/numpy/numpy_basics.ipynb#ch0000024?line=0'>1</a>\u001b[0m arr_copy\u001b[39m=\u001b[39mar\u001b[39m.\u001b[39mcopy()\n",
      "\u001b[1;31mNameError\u001b[0m: name 'ar' is not defined"
     ]
    }
   ],
   "source": [
    "arr_copy=ar.copy()\n"
   ]
  },
  {
   "cell_type": "markdown",
   "metadata": {},
   "source": [
    "two dimensional array\n",
    "# slicing operation \n",
    "# first one is row and second is column\n",
    "use np.vstack to stack vertically"
   ]
  },
  {
   "cell_type": "code",
   "execution_count": 60,
   "metadata": {},
   "outputs": [
    {
     "name": "stdout",
     "output_type": "stream",
     "text": [
      "[ 5 10 15 20 25 30 35 40 45]\n",
      "[[ 5 10 15]\n",
      " [20 25 30]\n",
      " [35 40 45]]\n",
      "[ 5 10 15 20 25 30 35 40 45]\n",
      "[ 5 10 15]\n",
      "[ 5 20 35]\n",
      "5\n",
      "45\n",
      "45\n",
      "[[ 5]\n",
      " [10]\n",
      " [15]]\n"
     ]
    }
   ],
   "source": [
    "twod_array=np.arange(5,50,5)\n",
    "twod_array=np.arange(5,50,5)\n",
    "print(twod_array)\n",
    "type(twod_array)\n",
    "# print(twod_array.reshape(3,3))\n",
    "\n",
    "# slicing operation \n",
    "# first one is row and second is column\n",
    "twod_copy=twod_array.reshape(3,3)\n",
    "print(twod_copy)\n",
    "print(twod_array)\n",
    "\n",
    "print(twod_copy[0,:])\n",
    "\n",
    "print(twod_copy[:,0])\n",
    "\n",
    "print(twod_copy[0,0])\n",
    "\n",
    "print(twod_copy[-1,-1])\n",
    "print(twod_copy[2,2])\n",
    "\n",
    "twod_copy_reshape=twod_copy[0,:].transpose()\n",
    "\n",
    "print(np.vstack(twod_copy_reshape))"
   ]
  },
  {
   "cell_type": "markdown",
   "metadata": {},
   "source": [
    "conditional selection in numpy"
   ]
  },
  {
   "cell_type": "code",
   "execution_count": 68,
   "metadata": {},
   "outputs": [
    {
     "name": "stdout",
     "output_type": "stream",
     "text": [
      "[4 5 6 7 8 9]\n"
     ]
    }
   ],
   "source": [
    "arr=np.arange(1,10,)\n",
    "arr1=arr[arr>3]\n",
    "print(arr1)"
   ]
  },
  {
   "cell_type": "markdown",
   "metadata": {},
   "source": [
    "numpy operations\n",
    "\n"
   ]
  },
  {
   "cell_type": "code",
   "execution_count": 86,
   "metadata": {},
   "outputs": [
    {
     "name": "stderr",
     "output_type": "stream",
     "text": [
      "C:\\Users\\jogym\\AppData\\Local\\Temp\\ipykernel_9464\\1952048925.py:5: RuntimeWarning: invalid value encountered in true_divide\n",
      "  arr/arr\n",
      "C:\\Users\\jogym\\AppData\\Local\\Temp\\ipykernel_9464\\1952048925.py:9: RuntimeWarning: divide by zero encountered in log\n",
      "  np.log(arr)\n"
     ]
    },
    {
     "data": {
      "text/plain": [
       "4"
      ]
     },
     "execution_count": 86,
     "metadata": {},
     "output_type": "execute_result"
    }
   ],
   "source": [
    "arr=np.arange(0,5)\n",
    "\n",
    "arr+arr\n",
    "arr*2\n",
    "arr/arr\n",
    "\n",
    "np.sqrt(arr)\n",
    "\n",
    "np.log(arr)\n",
    "\n",
    "arr.sum()\n",
    "arr.max()\n",
    "\n"
   ]
  },
  {
   "cell_type": "markdown",
   "metadata": {},
   "source": [
    "operations on 2d"
   ]
  },
  {
   "cell_type": "code",
   "execution_count": 91,
   "metadata": {},
   "outputs": [
    {
     "name": "stdout",
     "output_type": "stream",
     "text": [
      "[[ 0  1  2  3  4]\n",
      " [ 5  6  7  8  9]\n",
      " [10 11 12 13 14]\n",
      " [15 16 17 18 19]\n",
      " [20 21 22 23 24]]\n"
     ]
    }
   ],
   "source": [
    "arr=np.arange(0,25).reshape(5,5)\n",
    "print(arr)\n",
    "# arr.sum(0) # this will give the sum of columns\n",
    "# arr.sum(1) # this will give  sum of rows"
   ]
  }
 ],
 "metadata": {
  "interpreter": {
   "hash": "2d89c9a6066a052ca538bccb4b5a7055b5412cda3e2ca36e3406c9ef9b187f5b"
  },
  "kernelspec": {
   "display_name": "Python 3.10.4 ('git_projects-raBy5UrY')",
   "language": "python",
   "name": "python3"
  },
  "language_info": {
   "codemirror_mode": {
    "name": "ipython",
    "version": 3
   },
   "file_extension": ".py",
   "mimetype": "text/x-python",
   "name": "python",
   "nbconvert_exporter": "python",
   "pygments_lexer": "ipython3",
   "version": "3.10.4"
  },
  "orig_nbformat": 4
 },
 "nbformat": 4,
 "nbformat_minor": 2
}
