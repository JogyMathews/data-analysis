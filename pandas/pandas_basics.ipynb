{
 "cells": [
  {
   "cell_type": "markdown",
   "metadata": {},
   "source": [
    "Creating a panda series"
   ]
  },
  {
   "cell_type": "code",
   "execution_count": null,
   "metadata": {},
   "outputs": [],
   "source": [
    "import pandas as pd\n",
    "import numpy as np"
   ]
  },
  {
   "cell_type": "code",
   "execution_count": null,
   "metadata": {},
   "outputs": [],
   "source": [
    "\n",
    "\n",
    "# creating pandas series\n",
    "\n",
    "myindex = ['USA','Canada','Mexico']\n",
    "mydata=[1776,1867,1821]\n",
    "myser=pd.Series(data=mydata)\n",
    "print(myser)\n",
    "\n",
    "# myser with index\n",
    "myser=pd.Series(data=mydata,index=myindex)\n",
    "print(myser)\n",
    "\n",
    "# series from a dictionary\n",
    "\n",
    "age={'sam':5,'Frank':10,'Mike':8}\n",
    "myser=pd.Series(age)\n",
    "print(myser)"
   ]
  },
  {
   "cell_type": "markdown",
   "metadata": {},
   "source": [
    "Operations between series"
   ]
  },
  {
   "cell_type": "code",
   "execution_count": null,
   "metadata": {},
   "outputs": [],
   "source": [
    "q1={'Japan':80,'India':50,'China':40}\n",
    "\n",
    "q1_sales=pd.Series(q1)\n",
    "\n",
    "# multiply\n",
    "print(q1_sales*2)\n",
    "\n",
    "q2={'Brazil':70,'India':60,'China':45}\n",
    "q2_sales=pd.Series(q2)\n",
    "\n"
   ]
  },
  {
   "cell_type": "markdown",
   "metadata": {},
   "source": [
    "# Adding 2 series\n",
    "use the fill_value to remove nan, if the field is not present in a series"
   ]
  },
  {
   "cell_type": "code",
   "execution_count": null,
   "metadata": {},
   "outputs": [],
   "source": [
    "q1_q2=q1_sales+ q2_sales\n",
    "print(q1_q2)\n",
    "q1_sales.add(q2_sales,fill_value=0)"
   ]
  },
  {
   "cell_type": "markdown",
   "metadata": {},
   "source": [
    "Dataframe\n",
    "Dataframe is a table of column and rows in pandas, that we can restructure and filter.\n",
    "It is group of pandas series that share same index."
   ]
  },
  {
   "cell_type": "code",
   "execution_count": null,
   "metadata": {},
   "outputs": [],
   "source": [
    "\n",
    "\n",
    "mydata=np.random.randint(0,101,(4,3))\n",
    "# print(mydata)\n",
    "\n",
    "myindex=['CA','NY','AZ','TX']\n",
    "mycolumns=['Jan','Feb','Mar']\n",
    "\n",
    "df=pd.DataFrame(data=mydata,index=myindex,columns=mycolumns)\n",
    "print(df.info())\n",
    "print(df)"
   ]
  },
  {
   "cell_type": "markdown",
   "metadata": {},
   "source": [
    "Dataframe properties\n",
    "\n",
    "columns\n",
    "index\n",
    "info\n",
    "describe\n",
    "describe.transpose\n",
    "head\n",
    "tail\n"
   ]
  },
  {
   "cell_type": "code",
   "execution_count": null,
   "metadata": {},
   "outputs": [],
   "source": [
    "# print(str(df.info) + '\\n')\n",
    "# print(df.index )\n",
    "# print(df.columns )\n",
    "# print(str(df.head) + '\\n')\n",
    "# print(str(df.tail) + '\\n')\n",
    "# print(str(df.describe)  + '\\n')\n",
    "print(str(df.describe().transpose)  + '\\n')"
   ]
  },
  {
   "cell_type": "markdown",
   "metadata": {},
   "source": [
    "Reading a csv file and creating a dataframe"
   ]
  },
  {
   "cell_type": "code",
   "execution_count": null,
   "metadata": {},
   "outputs": [],
   "source": [
    "import os\n",
    "\n",
    "os.chdir(r\"C:\\Users\\jogym\\Documents\\Jogy\\Study\\python\\data\\Pandas_excel\") # here r is used to denote a raw text. Else need //\n",
    "print(os.getcwd())\n",
    "df=pd.read_csv('tips.csv')\n",
    "# print(df.info())\n",
    "\n",
    "print(df[\"total_bill\"])\n",
    "\n",
    "\n",
    "print(df['total_bill']/df['tip'])"
   ]
  },
  {
   "cell_type": "markdown",
   "metadata": {},
   "source": [
    "To add a column to the dataframe"
   ]
  },
  {
   "cell_type": "code",
   "execution_count": null,
   "metadata": {},
   "outputs": [],
   "source": [
    "df['tip_percentage']=df['total_bill']/\tdf['tip']\n",
    "df.describe"
   ]
  },
  {
   "cell_type": "markdown",
   "metadata": {},
   "source": [
    "to remove column from the dataframe\n",
    "Axis=0 is to remove rows \n",
    "Axis=1 is to remove columns\n",
    "\n",
    "Do not use drop directly on a dataframe, instead it is preferred to copy it to a new object."
   ]
  },
  {
   "cell_type": "code",
   "execution_count": null,
   "metadata": {},
   "outputs": [],
   "source": [
    "df1 =df.drop(['tip_percentage'],axis=1)\n",
    "df1.info()"
   ]
  },
  {
   "cell_type": "markdown",
   "metadata": {},
   "source": [
    "Working with rows\n",
    "To set a column as an index\n",
    "Remove a column index"
   ]
  },
  {
   "cell_type": "code",
   "execution_count": null,
   "metadata": {},
   "outputs": [],
   "source": [
    "# df.info\n",
    "df2=df1.set_index(\"Payment ID\",inplace=True)\n",
    "\n",
    "dt=df2.loc[[\"Sun2959\"]]\n",
    "# df1.reset_index()\n"
   ]
  },
  {
   "cell_type": "markdown",
   "metadata": {},
   "source": [
    "Locate a row\n",
    "Grab multiple rows\n",
    "Removing rows"
   ]
  },
  {
   "cell_type": "code",
   "execution_count": null,
   "metadata": {},
   "outputs": [],
   "source": [
    "df1.iloc[0]"
   ]
  },
  {
   "cell_type": "code",
   "execution_count": null,
   "metadata": {},
   "outputs": [],
   "source": [
    "df1.iloc[0:4]"
   ]
  },
  {
   "cell_type": "markdown",
   "metadata": {},
   "source": [
    "Remove a row"
   ]
  },
  {
   "cell_type": "code",
   "execution_count": null,
   "metadata": {},
   "outputs": [],
   "source": [
    "df1.drop('Sun2959',axis=0)\n",
    "df1"
   ]
  },
  {
   "cell_type": "markdown",
   "metadata": {},
   "source": [
    "To add a row"
   ]
  },
  {
   "cell_type": "code",
   "execution_count": null,
   "metadata": {},
   "outputs": [],
   "source": [
    "add_new=df1.iloc[0]\n",
    "# df2=df1.combine(add_new)\n",
    "\n",
    "frames=[df1+add_new]\n",
    "df2=pd.concat(frames)\n",
    "\n",
    "print(df2)"
   ]
  },
  {
   "cell_type": "code",
   "execution_count": null,
   "metadata": {},
   "outputs": [],
   "source": [
    "import os\n",
    "\n",
    "os.chdir(r\"C:\\Users\\jogym\\Documents\\Jogy\\Study\\python\\data\\Pandas_excel\") # here r is used to denote a raw text. Else need //\n",
    "print(os.getcwd())\n",
    "df=pd.read_csv('tips.csv')\n",
    "\n",
    "add_new=df.head()\n",
    "print(df)\n",
    "print(\"\\n\")\n",
    "print(add_new)\n",
    "print(\"\\n\")\n",
    "print(\"\\n\")\n",
    "\n",
    "# frames=[df+add_new]\n",
    "df2=pd.concat([df,add_new], axis=0)\n",
    "print(df2)"
   ]
  },
  {
   "cell_type": "markdown",
   "metadata": {},
   "source": [
    "Conditional filtering in dataframe"
   ]
  },
  {
   "cell_type": "code",
   "execution_count": 13,
   "metadata": {},
   "outputs": [
    {
     "name": "stdout",
     "output_type": "stream",
     "text": [
      "0      False\n",
      "1      False\n",
      "2      False\n",
      "3      False\n",
      "4      False\n",
      "       ...  \n",
      "239    False\n",
      "240    False\n",
      "241    False\n",
      "242    False\n",
      "243    False\n",
      "Name: total_bill, Length: 244, dtype: bool\n",
      "     total_bill    tip     sex smoker   day    time  size  price_per_person  \\\n",
      "59        48.27   6.73    Male     No   Sat  Dinner     4             12.07   \n",
      "95        40.17   4.73    Male    Yes   Fri  Dinner     4             10.04   \n",
      "102       44.30   2.50  Female    Yes   Sat  Dinner     3             14.77   \n",
      "142       41.19   5.00    Male     No  Thur   Lunch     5              8.24   \n",
      "156       48.17   5.00    Male     No   Sun  Dinner     6              8.03   \n",
      "170       50.81  10.00    Male    Yes   Sat  Dinner     3             16.94   \n",
      "182       45.35   3.50    Male    Yes   Sun  Dinner     3             15.12   \n",
      "184       40.55   3.00    Male    Yes   Sun  Dinner     2             20.27   \n",
      "197       43.11   5.00  Female    Yes  Thur   Lunch     4             10.78   \n",
      "212       48.33   9.00    Male     No   Sat  Dinner     4             12.08   \n",
      "\n",
      "          Payer Name         CC Number Payment ID  \n",
      "59       Brian Ortiz  6596453823950595    Sat8139  \n",
      "95     Aaron Bentley   180026611638690    Fri9628  \n",
      "102    Heather Cohen   379771118886604    Sat6240  \n",
      "142     Eric Andrews  4356531761046453   Thur3621  \n",
      "156    Ryan Gonzales  3523151482063321    Sun7518  \n",
      "170    Gregory Clark  5473850968388236    Sat1954  \n",
      "182     Jose Parsons  4112207559459910    Sun2337  \n",
      "184      Stephen Cox  3547798222044029    Sun5140  \n",
      "197      Brooke Soto  5544902205760175   Thur9313  \n",
      "212  Alex Williamson      676218815212    Sat4590  \n"
     ]
    }
   ],
   "source": [
    "# print(df)\n",
    "os.chdir(r'C:\\Users\\jogym\\Documents\\Jogy\\Study\\python\\data\\Pandas_excel')\n",
    "cwd=os.getcwd()\n",
    "\n",
    "csv_path=cwd + os.path.sep + 'tips.csv'\n",
    "# print(csv_path)\n",
    "tips_df=pd.read_csv(csv_path)\n",
    "\n",
    "bool_series=tips_df[\"total_bill\"]>40\n",
    "print(bool_series)\n",
    "\n",
    "t=tips_df[bool_series] # or tips_df[tips_df[\"total_bill\"]>40]\n",
    "print(t)"
   ]
  },
  {
   "cell_type": "markdown",
   "metadata": {},
   "source": [
    "Use multiple condition for filtering"
   ]
  },
  {
   "cell_type": "code",
   "execution_count": 16,
   "metadata": {},
   "outputs": [
    {
     "data": {
      "text/html": [
       "<div>\n",
       "<style scoped>\n",
       "    .dataframe tbody tr th:only-of-type {\n",
       "        vertical-align: middle;\n",
       "    }\n",
       "\n",
       "    .dataframe tbody tr th {\n",
       "        vertical-align: top;\n",
       "    }\n",
       "\n",
       "    .dataframe thead th {\n",
       "        text-align: right;\n",
       "    }\n",
       "</style>\n",
       "<table border=\"1\" class=\"dataframe\">\n",
       "  <thead>\n",
       "    <tr style=\"text-align: right;\">\n",
       "      <th></th>\n",
       "      <th>total_bill</th>\n",
       "      <th>tip</th>\n",
       "      <th>sex</th>\n",
       "      <th>smoker</th>\n",
       "      <th>day</th>\n",
       "      <th>time</th>\n",
       "      <th>size</th>\n",
       "      <th>price_per_person</th>\n",
       "      <th>Payer Name</th>\n",
       "      <th>CC Number</th>\n",
       "      <th>Payment ID</th>\n",
       "    </tr>\n",
       "  </thead>\n",
       "  <tbody>\n",
       "    <tr>\n",
       "      <th>59</th>\n",
       "      <td>48.27</td>\n",
       "      <td>6.73</td>\n",
       "      <td>Male</td>\n",
       "      <td>No</td>\n",
       "      <td>Sat</td>\n",
       "      <td>Dinner</td>\n",
       "      <td>4</td>\n",
       "      <td>12.07</td>\n",
       "      <td>Brian Ortiz</td>\n",
       "      <td>6596453823950595</td>\n",
       "      <td>Sat8139</td>\n",
       "    </tr>\n",
       "    <tr>\n",
       "      <th>95</th>\n",
       "      <td>40.17</td>\n",
       "      <td>4.73</td>\n",
       "      <td>Male</td>\n",
       "      <td>Yes</td>\n",
       "      <td>Fri</td>\n",
       "      <td>Dinner</td>\n",
       "      <td>4</td>\n",
       "      <td>10.04</td>\n",
       "      <td>Aaron Bentley</td>\n",
       "      <td>180026611638690</td>\n",
       "      <td>Fri9628</td>\n",
       "    </tr>\n",
       "    <tr>\n",
       "      <th>142</th>\n",
       "      <td>41.19</td>\n",
       "      <td>5.00</td>\n",
       "      <td>Male</td>\n",
       "      <td>No</td>\n",
       "      <td>Thur</td>\n",
       "      <td>Lunch</td>\n",
       "      <td>5</td>\n",
       "      <td>8.24</td>\n",
       "      <td>Eric Andrews</td>\n",
       "      <td>4356531761046453</td>\n",
       "      <td>Thur3621</td>\n",
       "    </tr>\n",
       "    <tr>\n",
       "      <th>156</th>\n",
       "      <td>48.17</td>\n",
       "      <td>5.00</td>\n",
       "      <td>Male</td>\n",
       "      <td>No</td>\n",
       "      <td>Sun</td>\n",
       "      <td>Dinner</td>\n",
       "      <td>6</td>\n",
       "      <td>8.03</td>\n",
       "      <td>Ryan Gonzales</td>\n",
       "      <td>3523151482063321</td>\n",
       "      <td>Sun7518</td>\n",
       "    </tr>\n",
       "    <tr>\n",
       "      <th>170</th>\n",
       "      <td>50.81</td>\n",
       "      <td>10.00</td>\n",
       "      <td>Male</td>\n",
       "      <td>Yes</td>\n",
       "      <td>Sat</td>\n",
       "      <td>Dinner</td>\n",
       "      <td>3</td>\n",
       "      <td>16.94</td>\n",
       "      <td>Gregory Clark</td>\n",
       "      <td>5473850968388236</td>\n",
       "      <td>Sat1954</td>\n",
       "    </tr>\n",
       "    <tr>\n",
       "      <th>182</th>\n",
       "      <td>45.35</td>\n",
       "      <td>3.50</td>\n",
       "      <td>Male</td>\n",
       "      <td>Yes</td>\n",
       "      <td>Sun</td>\n",
       "      <td>Dinner</td>\n",
       "      <td>3</td>\n",
       "      <td>15.12</td>\n",
       "      <td>Jose Parsons</td>\n",
       "      <td>4112207559459910</td>\n",
       "      <td>Sun2337</td>\n",
       "    </tr>\n",
       "    <tr>\n",
       "      <th>184</th>\n",
       "      <td>40.55</td>\n",
       "      <td>3.00</td>\n",
       "      <td>Male</td>\n",
       "      <td>Yes</td>\n",
       "      <td>Sun</td>\n",
       "      <td>Dinner</td>\n",
       "      <td>2</td>\n",
       "      <td>20.27</td>\n",
       "      <td>Stephen Cox</td>\n",
       "      <td>3547798222044029</td>\n",
       "      <td>Sun5140</td>\n",
       "    </tr>\n",
       "    <tr>\n",
       "      <th>212</th>\n",
       "      <td>48.33</td>\n",
       "      <td>9.00</td>\n",
       "      <td>Male</td>\n",
       "      <td>No</td>\n",
       "      <td>Sat</td>\n",
       "      <td>Dinner</td>\n",
       "      <td>4</td>\n",
       "      <td>12.08</td>\n",
       "      <td>Alex Williamson</td>\n",
       "      <td>676218815212</td>\n",
       "      <td>Sat4590</td>\n",
       "    </tr>\n",
       "  </tbody>\n",
       "</table>\n",
       "</div>"
      ],
      "text/plain": [
       "     total_bill    tip   sex smoker   day    time  size  price_per_person  \\\n",
       "59        48.27   6.73  Male     No   Sat  Dinner     4             12.07   \n",
       "95        40.17   4.73  Male    Yes   Fri  Dinner     4             10.04   \n",
       "142       41.19   5.00  Male     No  Thur   Lunch     5              8.24   \n",
       "156       48.17   5.00  Male     No   Sun  Dinner     6              8.03   \n",
       "170       50.81  10.00  Male    Yes   Sat  Dinner     3             16.94   \n",
       "182       45.35   3.50  Male    Yes   Sun  Dinner     3             15.12   \n",
       "184       40.55   3.00  Male    Yes   Sun  Dinner     2             20.27   \n",
       "212       48.33   9.00  Male     No   Sat  Dinner     4             12.08   \n",
       "\n",
       "          Payer Name         CC Number Payment ID  \n",
       "59       Brian Ortiz  6596453823950595    Sat8139  \n",
       "95     Aaron Bentley   180026611638690    Fri9628  \n",
       "142     Eric Andrews  4356531761046453   Thur3621  \n",
       "156    Ryan Gonzales  3523151482063321    Sun7518  \n",
       "170    Gregory Clark  5473850968388236    Sat1954  \n",
       "182     Jose Parsons  4112207559459910    Sun2337  \n",
       "184      Stephen Cox  3547798222044029    Sun5140  \n",
       "212  Alex Williamson      676218815212    Sat4590  "
      ]
     },
     "execution_count": 16,
     "metadata": {},
     "output_type": "execute_result"
    }
   ],
   "source": [
    "tips_df[(tips_df[\"total_bill\"]>40) & (tips_df[\"sex\"]==\"Male\")]"
   ]
  },
  {
   "cell_type": "markdown",
   "metadata": {},
   "source": [
    "isin(Options)"
   ]
  }
 ],
 "metadata": {
  "kernelspec": {
   "display_name": "Python 3.10.4 ('git_projects-raBy5UrY')",
   "language": "python",
   "name": "python3"
  },
  "language_info": {
   "codemirror_mode": {
    "name": "ipython",
    "version": 3
   },
   "file_extension": ".py",
   "mimetype": "text/x-python",
   "name": "python",
   "nbconvert_exporter": "python",
   "pygments_lexer": "ipython3",
   "version": "3.10.5"
  },
  "orig_nbformat": 4,
  "vscode": {
   "interpreter": {
    "hash": "2d89c9a6066a052ca538bccb4b5a7055b5412cda3e2ca36e3406c9ef9b187f5b"
   }
  }
 },
 "nbformat": 4,
 "nbformat_minor": 2
}
