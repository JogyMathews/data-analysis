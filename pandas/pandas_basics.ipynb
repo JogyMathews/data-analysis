{
 "cells": [
  {
   "cell_type": "markdown",
   "metadata": {},
   "source": [
    "Creating a panda series"
   ]
  },
  {
   "cell_type": "code",
   "execution_count": 1,
   "metadata": {},
   "outputs": [],
   "source": [
    "import pandas as pd\n",
    "import numpy as np"
   ]
  },
  {
   "cell_type": "code",
   "execution_count": 2,
   "metadata": {},
   "outputs": [
    {
     "name": "stdout",
     "output_type": "stream",
     "text": [
      "0    1776\n",
      "1    1867\n",
      "2    1821\n",
      "dtype: int64\n",
      "USA       1776\n",
      "Canada    1867\n",
      "Mexico    1821\n",
      "dtype: int64\n",
      "sam       5\n",
      "Frank    10\n",
      "Mike      8\n",
      "dtype: int64\n"
     ]
    }
   ],
   "source": [
    "\n",
    "\n",
    "# creating pandas series\n",
    "\n",
    "myindex = ['USA','Canada','Mexico']\n",
    "mydata=[1776,1867,1821]\n",
    "myser=pd.Series(data=mydata)\n",
    "print(myser)\n",
    "\n",
    "# myser with index\n",
    "myser=pd.Series(data=mydata,index=myindex)\n",
    "print(myser)\n",
    "\n",
    "# series from a dictionary\n",
    "\n",
    "age={'sam':5,'Frank':10,'Mike':8}\n",
    "myser=pd.Series(age)\n",
    "print(myser)"
   ]
  },
  {
   "cell_type": "markdown",
   "metadata": {},
   "source": [
    "Operations between series"
   ]
  },
  {
   "cell_type": "code",
   "execution_count": 3,
   "metadata": {},
   "outputs": [
    {
     "name": "stdout",
     "output_type": "stream",
     "text": [
      "Japan    160\n",
      "India    100\n",
      "China     80\n",
      "dtype: int64\n"
     ]
    }
   ],
   "source": [
    "q1={'Japan':80,'India':50,'China':40}\n",
    "\n",
    "q1_sales=pd.Series(q1)\n",
    "\n",
    "# multiply\n",
    "print(q1_sales*2)\n",
    "\n",
    "q2={'Brazil':70,'India':60,'China':45}\n",
    "q2_sales=pd.Series(q2)\n",
    "\n"
   ]
  },
  {
   "cell_type": "markdown",
   "metadata": {},
   "source": [
    "# Adding 2 series\n",
    "use the fill_value to remove nan, if the field is not present in a series"
   ]
  },
  {
   "cell_type": "code",
   "execution_count": 4,
   "metadata": {},
   "outputs": [
    {
     "name": "stdout",
     "output_type": "stream",
     "text": [
      "Brazil      NaN\n",
      "China      85.0\n",
      "India     110.0\n",
      "Japan       NaN\n",
      "dtype: float64\n"
     ]
    },
    {
     "data": {
      "text/plain": [
       "Brazil     70.0\n",
       "China      85.0\n",
       "India     110.0\n",
       "Japan      80.0\n",
       "dtype: float64"
      ]
     },
     "execution_count": 4,
     "metadata": {},
     "output_type": "execute_result"
    }
   ],
   "source": [
    "q1_q2=q1_sales+ q2_sales\n",
    "print(q1_q2)\n",
    "q1_sales.add(q2_sales,fill_value=0)"
   ]
  },
  {
   "cell_type": "markdown",
   "metadata": {},
   "source": [
    "Dataframe\n",
    "Dataframe is a table of column and rows in pandas, that we can restructure and filter.\n",
    "It is group of pandas series that share same index."
   ]
  },
  {
   "cell_type": "code",
   "execution_count": 5,
   "metadata": {},
   "outputs": [
    {
     "name": "stdout",
     "output_type": "stream",
     "text": [
      "<class 'pandas.core.frame.DataFrame'>\n",
      "Index: 4 entries, CA to TX\n",
      "Data columns (total 3 columns):\n",
      " #   Column  Non-Null Count  Dtype\n",
      "---  ------  --------------  -----\n",
      " 0   Jan     4 non-null      int32\n",
      " 1   Feb     4 non-null      int32\n",
      " 2   Mar     4 non-null      int32\n",
      "dtypes: int32(3)\n",
      "memory usage: 80.0+ bytes\n",
      "None\n",
      "    Jan  Feb  Mar\n",
      "CA   57   19   85\n",
      "NY   67    5   73\n",
      "AZ   79   75   11\n",
      "TX   11   65   27\n"
     ]
    }
   ],
   "source": [
    "\n",
    "\n",
    "mydata=np.random.randint(0,101,(4,3))\n",
    "# print(mydata)\n",
    "\n",
    "myindex=['CA','NY','AZ','TX']\n",
    "mycolumns=['Jan','Feb','Mar']\n",
    "\n",
    "df=pd.DataFrame(data=mydata,index=myindex,columns=mycolumns)\n",
    "print(df.info())\n",
    "print(df)"
   ]
  },
  {
   "cell_type": "markdown",
   "metadata": {},
   "source": [
    "Dataframe properties\n",
    "\n",
    "columns\n",
    "index\n",
    "info\n",
    "describe\n",
    "describe.transpose\n",
    "head\n",
    "tail\n"
   ]
  },
  {
   "cell_type": "code",
   "execution_count": 6,
   "metadata": {},
   "outputs": [
    {
     "name": "stdout",
     "output_type": "stream",
     "text": [
      "<bound method DataFrame.transpose of              Jan        Feb        Mar\n",
      "count   4.000000   4.000000   4.000000\n",
      "mean   53.500000  41.000000  49.000000\n",
      "std    29.726531  34.215006  35.590261\n",
      "min    11.000000   5.000000  11.000000\n",
      "25%    45.500000  15.500000  23.000000\n",
      "50%    62.000000  42.000000  50.000000\n",
      "75%    70.000000  67.500000  76.000000\n",
      "max    79.000000  75.000000  85.000000>\n",
      "\n"
     ]
    }
   ],
   "source": [
    "# print(str(df.info) + '\\n')\n",
    "# print(df.index )\n",
    "# print(df.columns )\n",
    "# print(str(df.head) + '\\n')\n",
    "# print(str(df.tail) + '\\n')\n",
    "# print(str(df.describe)  + '\\n')\n",
    "print(str(df.describe().transpose)  + '\\n')"
   ]
  },
  {
   "cell_type": "markdown",
   "metadata": {},
   "source": [
    "Reading a csv file and creating a dataframe"
   ]
  },
  {
   "cell_type": "code",
   "execution_count": 7,
   "metadata": {},
   "outputs": [
    {
     "name": "stdout",
     "output_type": "stream",
     "text": [
      "C:\\Users\\jogym\\Documents\\Jogy\\Study\\python\\data\\Pandas_excel\n",
      "0      16.99\n",
      "1      10.34\n",
      "2      21.01\n",
      "3      23.68\n",
      "4      24.59\n",
      "       ...  \n",
      "239    29.03\n",
      "240    27.18\n",
      "241    22.67\n",
      "242    17.82\n",
      "243    18.78\n",
      "Name: total_bill, Length: 244, dtype: float64\n",
      "0      16.821782\n",
      "1       6.228916\n",
      "2       6.002857\n",
      "3       7.154079\n",
      "4       6.811634\n",
      "         ...    \n",
      "239     4.903716\n",
      "240    13.590000\n",
      "241    11.335000\n",
      "242    10.182857\n",
      "243     6.260000\n",
      "Length: 244, dtype: float64\n"
     ]
    }
   ],
   "source": [
    "import os\n",
    "\n",
    "os.chdir(r\"C:\\Users\\jogym\\Documents\\Jogy\\Study\\python\\data\\Pandas_excel\") # here r is used to denote a raw text. Else need //\n",
    "print(os.getcwd())\n",
    "df=pd.read_csv('tips.csv')\n",
    "# print(df.info())\n",
    "\n",
    "print(df[\"total_bill\"])\n",
    "\n",
    "\n",
    "print(df['total_bill']/df['tip'])"
   ]
  },
  {
   "cell_type": "markdown",
   "metadata": {},
   "source": [
    "To add a column to the dataframe"
   ]
  },
  {
   "cell_type": "code",
   "execution_count": 8,
   "metadata": {},
   "outputs": [
    {
     "data": {
      "text/plain": [
       "<bound method NDFrame.describe of      total_bill   tip     sex smoker   day    time  size  price_per_person  \\\n",
       "0         16.99  1.01  Female     No   Sun  Dinner     2              8.49   \n",
       "1         10.34  1.66    Male     No   Sun  Dinner     3              3.45   \n",
       "2         21.01  3.50    Male     No   Sun  Dinner     3              7.00   \n",
       "3         23.68  3.31    Male     No   Sun  Dinner     2             11.84   \n",
       "4         24.59  3.61  Female     No   Sun  Dinner     4              6.15   \n",
       "..          ...   ...     ...    ...   ...     ...   ...               ...   \n",
       "239       29.03  5.92    Male     No   Sat  Dinner     3              9.68   \n",
       "240       27.18  2.00  Female    Yes   Sat  Dinner     2             13.59   \n",
       "241       22.67  2.00    Male    Yes   Sat  Dinner     2             11.34   \n",
       "242       17.82  1.75    Male     No   Sat  Dinner     2              8.91   \n",
       "243       18.78  3.00  Female     No  Thur  Dinner     2              9.39   \n",
       "\n",
       "             Payer Name         CC Number Payment ID  tip_percentage  \n",
       "0    Christy Cunningham  3560325168603410    Sun2959       16.821782  \n",
       "1        Douglas Tucker  4478071379779230    Sun4608        6.228916  \n",
       "2        Travis Walters  6011812112971322    Sun4458        6.002857  \n",
       "3      Nathaniel Harris  4676137647685994    Sun5260        7.154079  \n",
       "4          Tonya Carter  4832732618637221    Sun2251        6.811634  \n",
       "..                  ...               ...        ...             ...  \n",
       "239       Michael Avila  5296068606052842    Sat2657        4.903716  \n",
       "240      Monica Sanders  3506806155565404    Sat1766       13.590000  \n",
       "241          Keith Wong  6011891618747196    Sat3880       11.335000  \n",
       "242        Dennis Dixon     4375220550950      Sat17       10.182857  \n",
       "243     Michelle Hardin  3511451626698139    Thur672        6.260000  \n",
       "\n",
       "[244 rows x 12 columns]>"
      ]
     },
     "execution_count": 8,
     "metadata": {},
     "output_type": "execute_result"
    }
   ],
   "source": [
    "df['tip_percentage']=df['total_bill']/\tdf['tip']\n",
    "df.describe"
   ]
  },
  {
   "cell_type": "markdown",
   "metadata": {},
   "source": [
    "to remove column from the dataframe\n",
    "Axis=0 is to remove rows \n",
    "Axis=1 is to remove columns\n",
    "\n",
    "Do not use drop directly on a dataframe, instead it is preferred to copy it to a new object."
   ]
  },
  {
   "cell_type": "code",
   "execution_count": 9,
   "metadata": {},
   "outputs": [
    {
     "name": "stdout",
     "output_type": "stream",
     "text": [
      "<class 'pandas.core.frame.DataFrame'>\n",
      "RangeIndex: 244 entries, 0 to 243\n",
      "Data columns (total 11 columns):\n",
      " #   Column            Non-Null Count  Dtype  \n",
      "---  ------            --------------  -----  \n",
      " 0   total_bill        244 non-null    float64\n",
      " 1   tip               244 non-null    float64\n",
      " 2   sex               244 non-null    object \n",
      " 3   smoker            244 non-null    object \n",
      " 4   day               244 non-null    object \n",
      " 5   time              244 non-null    object \n",
      " 6   size              244 non-null    int64  \n",
      " 7   price_per_person  244 non-null    float64\n",
      " 8   Payer Name        244 non-null    object \n",
      " 9   CC Number         244 non-null    int64  \n",
      " 10  Payment ID        244 non-null    object \n",
      "dtypes: float64(3), int64(2), object(6)\n",
      "memory usage: 21.1+ KB\n"
     ]
    }
   ],
   "source": [
    "df1 =df.drop(['tip_percentage'],axis=1)\n",
    "df1.info()"
   ]
  },
  {
   "cell_type": "markdown",
   "metadata": {},
   "source": [
    "Working with rows\n",
    "To set a column as an index\n",
    "Remove a column index"
   ]
  },
  {
   "cell_type": "code",
   "execution_count": 10,
   "metadata": {},
   "outputs": [
    {
     "ename": "AttributeError",
     "evalue": "'NoneType' object has no attribute 'loc'",
     "output_type": "error",
     "traceback": [
      "\u001b[1;31m---------------------------------------------------------------------------\u001b[0m",
      "\u001b[1;31mAttributeError\u001b[0m                            Traceback (most recent call last)",
      "\u001b[1;32mc:\\Users\\jogym\\Documents\\Jogy\\Study\\python\\git_projects\\data-analysis\\pandas\\pandas_basics.ipynb Cell 19'\u001b[0m in \u001b[0;36m<cell line: 4>\u001b[1;34m()\u001b[0m\n\u001b[0;32m      <a href='vscode-notebook-cell:/c%3A/Users/jogym/Documents/Jogy/Study/python/git_projects/data-analysis/pandas/pandas_basics.ipynb#ch0000018?line=0'>1</a>\u001b[0m \u001b[39m# df.info\u001b[39;00m\n\u001b[0;32m      <a href='vscode-notebook-cell:/c%3A/Users/jogym/Documents/Jogy/Study/python/git_projects/data-analysis/pandas/pandas_basics.ipynb#ch0000018?line=1'>2</a>\u001b[0m df2\u001b[39m=\u001b[39mdf1\u001b[39m.\u001b[39mset_index(\u001b[39m\"\u001b[39m\u001b[39mPayment ID\u001b[39m\u001b[39m\"\u001b[39m,inplace\u001b[39m=\u001b[39m\u001b[39mTrue\u001b[39;00m)\n\u001b[1;32m----> <a href='vscode-notebook-cell:/c%3A/Users/jogym/Documents/Jogy/Study/python/git_projects/data-analysis/pandas/pandas_basics.ipynb#ch0000018?line=3'>4</a>\u001b[0m dt\u001b[39m=\u001b[39mdf2\u001b[39m.\u001b[39;49mloc[[\u001b[39m\"\u001b[39m\u001b[39mSun2959\u001b[39m\u001b[39m\"\u001b[39m]]\n",
      "\u001b[1;31mAttributeError\u001b[0m: 'NoneType' object has no attribute 'loc'"
     ]
    }
   ],
   "source": [
    "# df.info\n",
    "df2=df1.set_index(\"Payment ID\",inplace=True)\n",
    "\n",
    "dt=df2.loc[[\"Sun2959\"]]\n",
    "# df1.reset_index()\n"
   ]
  },
  {
   "cell_type": "markdown",
   "metadata": {},
   "source": [
    "Locate a row\n",
    "Grab multiple rows\n",
    "Removing rows"
   ]
  },
  {
   "cell_type": "code",
   "execution_count": null,
   "metadata": {},
   "outputs": [],
   "source": [
    "df1.iloc[0]"
   ]
  },
  {
   "cell_type": "code",
   "execution_count": 11,
   "metadata": {},
   "outputs": [
    {
     "data": {
      "text/html": [
       "<div>\n",
       "<style scoped>\n",
       "    .dataframe tbody tr th:only-of-type {\n",
       "        vertical-align: middle;\n",
       "    }\n",
       "\n",
       "    .dataframe tbody tr th {\n",
       "        vertical-align: top;\n",
       "    }\n",
       "\n",
       "    .dataframe thead th {\n",
       "        text-align: right;\n",
       "    }\n",
       "</style>\n",
       "<table border=\"1\" class=\"dataframe\">\n",
       "  <thead>\n",
       "    <tr style=\"text-align: right;\">\n",
       "      <th></th>\n",
       "      <th>total_bill</th>\n",
       "      <th>tip</th>\n",
       "      <th>sex</th>\n",
       "      <th>smoker</th>\n",
       "      <th>day</th>\n",
       "      <th>time</th>\n",
       "      <th>size</th>\n",
       "      <th>price_per_person</th>\n",
       "      <th>Payer Name</th>\n",
       "      <th>CC Number</th>\n",
       "    </tr>\n",
       "    <tr>\n",
       "      <th>Payment ID</th>\n",
       "      <th></th>\n",
       "      <th></th>\n",
       "      <th></th>\n",
       "      <th></th>\n",
       "      <th></th>\n",
       "      <th></th>\n",
       "      <th></th>\n",
       "      <th></th>\n",
       "      <th></th>\n",
       "      <th></th>\n",
       "    </tr>\n",
       "  </thead>\n",
       "  <tbody>\n",
       "    <tr>\n",
       "      <th>Sun2959</th>\n",
       "      <td>16.99</td>\n",
       "      <td>1.01</td>\n",
       "      <td>Female</td>\n",
       "      <td>No</td>\n",
       "      <td>Sun</td>\n",
       "      <td>Dinner</td>\n",
       "      <td>2</td>\n",
       "      <td>8.49</td>\n",
       "      <td>Christy Cunningham</td>\n",
       "      <td>3560325168603410</td>\n",
       "    </tr>\n",
       "    <tr>\n",
       "      <th>Sun4608</th>\n",
       "      <td>10.34</td>\n",
       "      <td>1.66</td>\n",
       "      <td>Male</td>\n",
       "      <td>No</td>\n",
       "      <td>Sun</td>\n",
       "      <td>Dinner</td>\n",
       "      <td>3</td>\n",
       "      <td>3.45</td>\n",
       "      <td>Douglas Tucker</td>\n",
       "      <td>4478071379779230</td>\n",
       "    </tr>\n",
       "    <tr>\n",
       "      <th>Sun4458</th>\n",
       "      <td>21.01</td>\n",
       "      <td>3.50</td>\n",
       "      <td>Male</td>\n",
       "      <td>No</td>\n",
       "      <td>Sun</td>\n",
       "      <td>Dinner</td>\n",
       "      <td>3</td>\n",
       "      <td>7.00</td>\n",
       "      <td>Travis Walters</td>\n",
       "      <td>6011812112971322</td>\n",
       "    </tr>\n",
       "    <tr>\n",
       "      <th>Sun5260</th>\n",
       "      <td>23.68</td>\n",
       "      <td>3.31</td>\n",
       "      <td>Male</td>\n",
       "      <td>No</td>\n",
       "      <td>Sun</td>\n",
       "      <td>Dinner</td>\n",
       "      <td>2</td>\n",
       "      <td>11.84</td>\n",
       "      <td>Nathaniel Harris</td>\n",
       "      <td>4676137647685994</td>\n",
       "    </tr>\n",
       "  </tbody>\n",
       "</table>\n",
       "</div>"
      ],
      "text/plain": [
       "            total_bill   tip     sex smoker  day    time  size  \\\n",
       "Payment ID                                                       \n",
       "Sun2959          16.99  1.01  Female     No  Sun  Dinner     2   \n",
       "Sun4608          10.34  1.66    Male     No  Sun  Dinner     3   \n",
       "Sun4458          21.01  3.50    Male     No  Sun  Dinner     3   \n",
       "Sun5260          23.68  3.31    Male     No  Sun  Dinner     2   \n",
       "\n",
       "            price_per_person          Payer Name         CC Number  \n",
       "Payment ID                                                          \n",
       "Sun2959                 8.49  Christy Cunningham  3560325168603410  \n",
       "Sun4608                 3.45      Douglas Tucker  4478071379779230  \n",
       "Sun4458                 7.00      Travis Walters  6011812112971322  \n",
       "Sun5260                11.84    Nathaniel Harris  4676137647685994  "
      ]
     },
     "execution_count": 11,
     "metadata": {},
     "output_type": "execute_result"
    }
   ],
   "source": [
    "df1.iloc[0:4]"
   ]
  },
  {
   "cell_type": "markdown",
   "metadata": {},
   "source": [
    "Remove a row"
   ]
  },
  {
   "cell_type": "code",
   "execution_count": 17,
   "metadata": {},
   "outputs": [
    {
     "data": {
      "text/html": [
       "<div>\n",
       "<style scoped>\n",
       "    .dataframe tbody tr th:only-of-type {\n",
       "        vertical-align: middle;\n",
       "    }\n",
       "\n",
       "    .dataframe tbody tr th {\n",
       "        vertical-align: top;\n",
       "    }\n",
       "\n",
       "    .dataframe thead th {\n",
       "        text-align: right;\n",
       "    }\n",
       "</style>\n",
       "<table border=\"1\" class=\"dataframe\">\n",
       "  <thead>\n",
       "    <tr style=\"text-align: right;\">\n",
       "      <th></th>\n",
       "      <th>total_bill</th>\n",
       "      <th>tip</th>\n",
       "      <th>sex</th>\n",
       "      <th>smoker</th>\n",
       "      <th>day</th>\n",
       "      <th>time</th>\n",
       "      <th>size</th>\n",
       "      <th>price_per_person</th>\n",
       "      <th>Payer Name</th>\n",
       "      <th>CC Number</th>\n",
       "    </tr>\n",
       "    <tr>\n",
       "      <th>Payment ID</th>\n",
       "      <th></th>\n",
       "      <th></th>\n",
       "      <th></th>\n",
       "      <th></th>\n",
       "      <th></th>\n",
       "      <th></th>\n",
       "      <th></th>\n",
       "      <th></th>\n",
       "      <th></th>\n",
       "      <th></th>\n",
       "    </tr>\n",
       "  </thead>\n",
       "  <tbody>\n",
       "    <tr>\n",
       "      <th>Sun2959</th>\n",
       "      <td>16.99</td>\n",
       "      <td>1.01</td>\n",
       "      <td>Female</td>\n",
       "      <td>No</td>\n",
       "      <td>Sun</td>\n",
       "      <td>Dinner</td>\n",
       "      <td>2</td>\n",
       "      <td>8.49</td>\n",
       "      <td>Christy Cunningham</td>\n",
       "      <td>3560325168603410</td>\n",
       "    </tr>\n",
       "    <tr>\n",
       "      <th>Sun4608</th>\n",
       "      <td>10.34</td>\n",
       "      <td>1.66</td>\n",
       "      <td>Male</td>\n",
       "      <td>No</td>\n",
       "      <td>Sun</td>\n",
       "      <td>Dinner</td>\n",
       "      <td>3</td>\n",
       "      <td>3.45</td>\n",
       "      <td>Douglas Tucker</td>\n",
       "      <td>4478071379779230</td>\n",
       "    </tr>\n",
       "    <tr>\n",
       "      <th>Sun4458</th>\n",
       "      <td>21.01</td>\n",
       "      <td>3.50</td>\n",
       "      <td>Male</td>\n",
       "      <td>No</td>\n",
       "      <td>Sun</td>\n",
       "      <td>Dinner</td>\n",
       "      <td>3</td>\n",
       "      <td>7.00</td>\n",
       "      <td>Travis Walters</td>\n",
       "      <td>6011812112971322</td>\n",
       "    </tr>\n",
       "    <tr>\n",
       "      <th>Sun5260</th>\n",
       "      <td>23.68</td>\n",
       "      <td>3.31</td>\n",
       "      <td>Male</td>\n",
       "      <td>No</td>\n",
       "      <td>Sun</td>\n",
       "      <td>Dinner</td>\n",
       "      <td>2</td>\n",
       "      <td>11.84</td>\n",
       "      <td>Nathaniel Harris</td>\n",
       "      <td>4676137647685994</td>\n",
       "    </tr>\n",
       "    <tr>\n",
       "      <th>Sun2251</th>\n",
       "      <td>24.59</td>\n",
       "      <td>3.61</td>\n",
       "      <td>Female</td>\n",
       "      <td>No</td>\n",
       "      <td>Sun</td>\n",
       "      <td>Dinner</td>\n",
       "      <td>4</td>\n",
       "      <td>6.15</td>\n",
       "      <td>Tonya Carter</td>\n",
       "      <td>4832732618637221</td>\n",
       "    </tr>\n",
       "    <tr>\n",
       "      <th>...</th>\n",
       "      <td>...</td>\n",
       "      <td>...</td>\n",
       "      <td>...</td>\n",
       "      <td>...</td>\n",
       "      <td>...</td>\n",
       "      <td>...</td>\n",
       "      <td>...</td>\n",
       "      <td>...</td>\n",
       "      <td>...</td>\n",
       "      <td>...</td>\n",
       "    </tr>\n",
       "    <tr>\n",
       "      <th>Sat2657</th>\n",
       "      <td>29.03</td>\n",
       "      <td>5.92</td>\n",
       "      <td>Male</td>\n",
       "      <td>No</td>\n",
       "      <td>Sat</td>\n",
       "      <td>Dinner</td>\n",
       "      <td>3</td>\n",
       "      <td>9.68</td>\n",
       "      <td>Michael Avila</td>\n",
       "      <td>5296068606052842</td>\n",
       "    </tr>\n",
       "    <tr>\n",
       "      <th>Sat1766</th>\n",
       "      <td>27.18</td>\n",
       "      <td>2.00</td>\n",
       "      <td>Female</td>\n",
       "      <td>Yes</td>\n",
       "      <td>Sat</td>\n",
       "      <td>Dinner</td>\n",
       "      <td>2</td>\n",
       "      <td>13.59</td>\n",
       "      <td>Monica Sanders</td>\n",
       "      <td>3506806155565404</td>\n",
       "    </tr>\n",
       "    <tr>\n",
       "      <th>Sat3880</th>\n",
       "      <td>22.67</td>\n",
       "      <td>2.00</td>\n",
       "      <td>Male</td>\n",
       "      <td>Yes</td>\n",
       "      <td>Sat</td>\n",
       "      <td>Dinner</td>\n",
       "      <td>2</td>\n",
       "      <td>11.34</td>\n",
       "      <td>Keith Wong</td>\n",
       "      <td>6011891618747196</td>\n",
       "    </tr>\n",
       "    <tr>\n",
       "      <th>Sat17</th>\n",
       "      <td>17.82</td>\n",
       "      <td>1.75</td>\n",
       "      <td>Male</td>\n",
       "      <td>No</td>\n",
       "      <td>Sat</td>\n",
       "      <td>Dinner</td>\n",
       "      <td>2</td>\n",
       "      <td>8.91</td>\n",
       "      <td>Dennis Dixon</td>\n",
       "      <td>4375220550950</td>\n",
       "    </tr>\n",
       "    <tr>\n",
       "      <th>Thur672</th>\n",
       "      <td>18.78</td>\n",
       "      <td>3.00</td>\n",
       "      <td>Female</td>\n",
       "      <td>No</td>\n",
       "      <td>Thur</td>\n",
       "      <td>Dinner</td>\n",
       "      <td>2</td>\n",
       "      <td>9.39</td>\n",
       "      <td>Michelle Hardin</td>\n",
       "      <td>3511451626698139</td>\n",
       "    </tr>\n",
       "  </tbody>\n",
       "</table>\n",
       "<p>244 rows × 10 columns</p>\n",
       "</div>"
      ],
      "text/plain": [
       "            total_bill   tip     sex smoker   day    time  size  \\\n",
       "Payment ID                                                        \n",
       "Sun2959          16.99  1.01  Female     No   Sun  Dinner     2   \n",
       "Sun4608          10.34  1.66    Male     No   Sun  Dinner     3   \n",
       "Sun4458          21.01  3.50    Male     No   Sun  Dinner     3   \n",
       "Sun5260          23.68  3.31    Male     No   Sun  Dinner     2   \n",
       "Sun2251          24.59  3.61  Female     No   Sun  Dinner     4   \n",
       "...                ...   ...     ...    ...   ...     ...   ...   \n",
       "Sat2657          29.03  5.92    Male     No   Sat  Dinner     3   \n",
       "Sat1766          27.18  2.00  Female    Yes   Sat  Dinner     2   \n",
       "Sat3880          22.67  2.00    Male    Yes   Sat  Dinner     2   \n",
       "Sat17            17.82  1.75    Male     No   Sat  Dinner     2   \n",
       "Thur672          18.78  3.00  Female     No  Thur  Dinner     2   \n",
       "\n",
       "            price_per_person          Payer Name         CC Number  \n",
       "Payment ID                                                          \n",
       "Sun2959                 8.49  Christy Cunningham  3560325168603410  \n",
       "Sun4608                 3.45      Douglas Tucker  4478071379779230  \n",
       "Sun4458                 7.00      Travis Walters  6011812112971322  \n",
       "Sun5260                11.84    Nathaniel Harris  4676137647685994  \n",
       "Sun2251                 6.15        Tonya Carter  4832732618637221  \n",
       "...                      ...                 ...               ...  \n",
       "Sat2657                 9.68       Michael Avila  5296068606052842  \n",
       "Sat1766                13.59      Monica Sanders  3506806155565404  \n",
       "Sat3880                11.34          Keith Wong  6011891618747196  \n",
       "Sat17                   8.91        Dennis Dixon     4375220550950  \n",
       "Thur672                 9.39     Michelle Hardin  3511451626698139  \n",
       "\n",
       "[244 rows x 10 columns]"
      ]
     },
     "execution_count": 17,
     "metadata": {},
     "output_type": "execute_result"
    }
   ],
   "source": [
    "df1.drop('Sun2959',axis=0)\n",
    "df1"
   ]
  },
  {
   "cell_type": "markdown",
   "metadata": {},
   "source": [
    "To add a row"
   ]
  },
  {
   "cell_type": "code",
   "execution_count": 42,
   "metadata": {},
   "outputs": [
    {
     "name": "stdout",
     "output_type": "stream",
     "text": [
      "                  level_0  index Payment ID  total_bill   tip     sex smoker  \\\n",
      "0                     0.0    0.0    Sun2959       16.99  1.01  Female     No   \n",
      "1                     1.0    1.0    Sun4608       10.34  1.66    Male     No   \n",
      "2                     2.0    2.0    Sun4458       21.01  3.50    Male     No   \n",
      "3                     3.0    3.0    Sun5260       23.68  3.31    Male     No   \n",
      "4                     4.0    4.0    Sun2251       24.59  3.61  Female     No   \n",
      "...                   ...    ...        ...         ...   ...     ...    ...   \n",
      "time                  NaN    NaN        NaN         NaN   NaN     NaN    NaN   \n",
      "size                  NaN    NaN        NaN         NaN   NaN     NaN    NaN   \n",
      "price_per_person      NaN    NaN        NaN         NaN   NaN     NaN    NaN   \n",
      "Payer Name            NaN    NaN        NaN         NaN   NaN     NaN    NaN   \n",
      "CC Number             NaN    NaN        NaN         NaN   NaN     NaN    NaN   \n",
      "\n",
      "                  day    time  size  price_per_person          Payer Name  \\\n",
      "0                 Sun  Dinner   2.0              8.49  Christy Cunningham   \n",
      "1                 Sun  Dinner   3.0              3.45      Douglas Tucker   \n",
      "2                 Sun  Dinner   3.0              7.00      Travis Walters   \n",
      "3                 Sun  Dinner   2.0             11.84    Nathaniel Harris   \n",
      "4                 Sun  Dinner   4.0              6.15        Tonya Carter   \n",
      "...               ...     ...   ...               ...                 ...   \n",
      "time              NaN     NaN   NaN               NaN                 NaN   \n",
      "size              NaN     NaN   NaN               NaN                 NaN   \n",
      "price_per_person  NaN     NaN   NaN               NaN                 NaN   \n",
      "Payer Name        NaN     NaN   NaN               NaN                 NaN   \n",
      "CC Number         NaN     NaN   NaN               NaN                 NaN   \n",
      "\n",
      "                     CC Number                   0  \n",
      "0                 3.560325e+15                 NaN  \n",
      "1                 4.478071e+15                 NaN  \n",
      "2                 6.011812e+15                 NaN  \n",
      "3                 4.676138e+15                 NaN  \n",
      "4                 4.832733e+15                 NaN  \n",
      "...                        ...                 ...  \n",
      "time                       NaN              Dinner  \n",
      "size                       NaN                   2  \n",
      "price_per_person           NaN                8.49  \n",
      "Payer Name                 NaN  Christy Cunningham  \n",
      "CC Number                  NaN    3560325168603410  \n",
      "\n",
      "[257 rows x 14 columns]\n"
     ]
    }
   ],
   "source": [
    "add_new=df1.iloc[0]\n",
    "# df2=df1.combine(add_new)\n",
    "\n",
    "\n",
    "df2=pd.concat([df1,add_new],axis=1)\n",
    "print(df2)"
   ]
  }
 ],
 "metadata": {
  "kernelspec": {
   "display_name": "Python 3.10.4 ('git_projects-raBy5UrY')",
   "language": "python",
   "name": "python3"
  },
  "language_info": {
   "codemirror_mode": {
    "name": "ipython",
    "version": 3
   },
   "file_extension": ".py",
   "mimetype": "text/x-python",
   "name": "python",
   "nbconvert_exporter": "python",
   "pygments_lexer": "ipython3",
   "version": "3.10.5"
  },
  "orig_nbformat": 4,
  "vscode": {
   "interpreter": {
    "hash": "2d89c9a6066a052ca538bccb4b5a7055b5412cda3e2ca36e3406c9ef9b187f5b"
   }
  }
 },
 "nbformat": 4,
 "nbformat_minor": 2
}
