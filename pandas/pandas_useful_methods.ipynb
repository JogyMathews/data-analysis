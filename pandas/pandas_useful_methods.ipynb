{
 "cells": [
  {
   "cell_type": "code",
   "execution_count": null,
   "metadata": {},
   "outputs": [],
   "source": [
    "import numpy as np\n",
    "import pandas as pd"
   ]
  },
  {
   "cell_type": "markdown",
   "metadata": {},
   "source": [
    "Useful methods of pandas\n",
    "Apply()- method used to apply any logic on a column"
   ]
  },
  {
   "cell_type": "code",
   "execution_count": null,
   "metadata": {},
   "outputs": [],
   "source": [
    "import os \n",
    "# this is a function to return the last 4 digits of a credit card number\n",
    "def last_four(num):\n",
    "    return str(num)[-4:]\n",
    "\n",
    "\n",
    "\n",
    "os.chdir(r'C:\\Users\\jogym\\Documents\\Jogy\\Study\\python\\data\\Pandas_excel')\n",
    "cwd=os.getcwd()\n",
    "\n",
    "csv_path=cwd + os.path.sep + 'tips.csv'\n",
    "df=pd.read_csv(csv_path)\n",
    "\n",
    "df[\"CC Number\"].apply(last_four)"
   ]
  },
  {
   "cell_type": "markdown",
   "metadata": {},
   "source": [
    ".apply on multiple columns\n",
    "There are two ways to apply\n",
    "    1. using lambda\n",
    "    2. using Vectorize. This is much faster than lamda.\n"
   ]
  },
  {
   "cell_type": "code",
   "execution_count": null,
   "metadata": {},
   "outputs": [],
   "source": [
    "def quality(total_bill, tip):\n",
    "    if tip/total_bill>0.25:\n",
    "        return \"Generous\"\n",
    "    else:\n",
    "        return \"Other\""
   ]
  },
  {
   "cell_type": "code",
   "execution_count": null,
   "metadata": {},
   "outputs": [],
   "source": [
    "#1.using lambda\n",
    "df[['total_bill','tip']].apply(lambda df:quality(df['total_bill'],df['tip']),axis=1)"
   ]
  },
  {
   "cell_type": "code",
   "execution_count": null,
   "metadata": {},
   "outputs": [],
   "source": [
    "#2.using vectorize\n",
    "\n",
    "df['quality']=np.vectorize(quality)(df['total_bill'],df['tip'])\n",
    "df"
   ]
  },
  {
   "cell_type": "markdown",
   "metadata": {},
   "source": [
    "Useful methods – Statistical information and sorting\n",
    "\t\tSort\n"
   ]
  },
  {
   "cell_type": "code",
   "execution_count": null,
   "metadata": {},
   "outputs": [],
   "source": [
    "# will sort on tip column\n",
    "df.sort_values('tip')\n",
    "df.sort_values('tip', ascending=True)\n",
    "\n",
    "#sort based on multiple columns\n",
    "df.sort_values(['tip', 'size'])"
   ]
  },
  {
   "cell_type": "markdown",
   "metadata": {},
   "source": [
    "    Min Max"
   ]
  },
  {
   "cell_type": "code",
   "execution_count": null,
   "metadata": {},
   "outputs": [],
   "source": [
    "# df['total_bill'].max()\n",
    "# df['total_bill'].idxmax() # returns the index of the maximum value row\n",
    "\n",
    "df.iloc[df['total_bill'].idxmax()] # returns the details of the row\n"
   ]
  },
  {
   "cell_type": "code",
   "execution_count": null,
   "metadata": {},
   "outputs": [],
   "source": [
    "# Corelation between variables\n",
    "df.corr() "
   ]
  },
  {
   "cell_type": "code",
   "execution_count": null,
   "metadata": {},
   "outputs": [],
   "source": [
    "#Value Counts\n",
    "vc=df['sex'].value_counts()\n",
    "print(vc)\n",
    "vc.loc['Male']\n",
    "\n"
   ]
  },
  {
   "cell_type": "code",
   "execution_count": null,
   "metadata": {},
   "outputs": [],
   "source": [
    "#Unique\n",
    "df['day'].unique()\n",
    "df['day'].nunique()\n"
   ]
  },
  {
   "cell_type": "code",
   "execution_count": null,
   "metadata": {},
   "outputs": [],
   "source": [
    "#replace\n",
    "df['sex'].replace('Female','F')\n",
    "# df['replaced_status']=df['sex'].replace('Female','F')\n",
    "# df.drop(['replaced_status'],axis=1,inplace=True)\n",
    "df\n",
    "\n",
    "# replace using map\n",
    "# mymap={'Female':'F','Male':'M'}\n",
    "# df['sex'].map(mymap)"
   ]
  },
  {
   "cell_type": "code",
   "execution_count": null,
   "metadata": {},
   "outputs": [],
   "source": [
    "#Duplicate\n",
    "df_head=df.head()\n",
    "df_head\n",
    "\n",
    "df_duplicate=pd.concat([df,df_head],axis=0)\n",
    "\n",
    "#eliminating the duplicates\n",
    "# df_duplicate\n",
    "df_duplicate.duplicated()\n",
    "df_duplicate.drop_duplicates(subset='Payment ID') # here subset is the column name. It can be combination of columns like 'Payment ID', 'CC Number'"
   ]
  },
  {
   "cell_type": "code",
   "execution_count": null,
   "metadata": {},
   "outputs": [],
   "source": [
    "# between\n",
    "df['total_bill'].between(10,20,inclusive=\"both\")\n"
   ]
  },
  {
   "cell_type": "code",
   "execution_count": null,
   "metadata": {},
   "outputs": [],
   "source": [
    "#nlargest\n",
    "# df.nlargest(2,'tip') # here tip is the column name\n",
    "# the above can be also achieved by the below code\n",
    "df.sort_values('tip',ascending=False).iloc[:2]\n",
    "\n",
    "#nsmallest\n",
    "# df.nsmallest(2,'tip') # here tip is the column name"
   ]
  },
  {
   "cell_type": "code",
   "execution_count": null,
   "metadata": {},
   "outputs": [],
   "source": [
    "#sampling - returns sample from the set of records\n",
    "\n",
    "df.sample(5) # returns 5 records\n",
    "df.sample(frac=0.1) # returns 10% of the total records"
   ]
  },
  {
   "cell_type": "markdown",
   "metadata": {},
   "source": [
    "Missing data\n",
    "    - Keep it\n",
    "    - Remove it\n",
    "    - Replace it\n",
    "\n",
    "    Drop a row or a column when lot of information is missing"
   ]
  },
  {
   "cell_type": "code",
   "execution_count": null,
   "metadata": {},
   "outputs": [],
   "source": [
    "# NaN with NA\n",
    "\n",
    "# np.NaN is replaced with np.NA\n",
    "# np.nan == np.nan is false\n",
    "# np.nan is np.nan is true\n",
    "\n"
   ]
  }
 ],
 "metadata": {
  "kernelspec": {
   "display_name": "Python 3.10.5 ('git_projects-raBy5UrY')",
   "language": "python",
   "name": "python3"
  },
  "language_info": {
   "codemirror_mode": {
    "name": "ipython",
    "version": 3
   },
   "file_extension": ".py",
   "mimetype": "text/x-python",
   "name": "python",
   "nbconvert_exporter": "python",
   "pygments_lexer": "ipython3",
   "version": "3.10.5"
  },
  "orig_nbformat": 4,
  "vscode": {
   "interpreter": {
    "hash": "2d89c9a6066a052ca538bccb4b5a7055b5412cda3e2ca36e3406c9ef9b187f5b"
   }
  }
 },
 "nbformat": 4,
 "nbformat_minor": 2
}
