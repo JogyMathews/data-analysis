{
 "cells": [
  {
   "cell_type": "code",
   "execution_count": null,
   "metadata": {},
   "outputs": [],
   "source": [
    "import numpy as np\n",
    "import pandas as pd"
   ]
  },
  {
   "cell_type": "code",
   "execution_count": null,
   "metadata": {},
   "outputs": [],
   "source": [
    "import os \n",
    "# this is a function to return the last 4 digits of a credit card number\n",
    "def last_four(num):\n",
    "    return str(num)[-4:]\n",
    "\n",
    "\n",
    "\n",
    "os.chdir(r'C:\\Users\\jogym\\Documents\\Jogy\\Study\\python\\data\\Pandas_excel')\n",
    "cwd=os.getcwd()\n",
    "\n",
    "csv_path=cwd + os.path.sep + 'movie_scores.csv'\n",
    "df=pd.read_csv(csv_path)\n",
    "df"
   ]
  },
  {
   "cell_type": "markdown",
   "metadata": {},
   "source": [
    "Missing data\n",
    "    - Keep it\n",
    "    - Remove it\n",
    "    - Replace it\n",
    "\n",
    "    Drop a row or a column when lot of information is missing"
   ]
  },
  {
   "cell_type": "code",
   "execution_count": null,
   "metadata": {},
   "outputs": [],
   "source": [
    "# NaN with NA\n",
    "\n",
    "# np.NaN is replaced with np.NA\n",
    "# np.nan == np.nan is false\n",
    "# np.nan is np.nan is true\n",
    "\n",
    "#checking nulls\n",
    "\n",
    "# df.isnull() # returns true for all nulls\n",
    "\n",
    "df.notnull() # returns false for all nulls"
   ]
  },
  {
   "cell_type": "code",
   "execution_count": null,
   "metadata": {},
   "outputs": [],
   "source": [
    "#isnull\n",
    "#notnull\n",
    "\n",
    "df[df['pre_movie_score'].notnull()]\n",
    "\n",
    "df[df['pre_movie_score'].isnull() & df['first_name'].notnull()]"
   ]
  },
  {
   "cell_type": "code",
   "execution_count": null,
   "metadata": {},
   "outputs": [],
   "source": [
    "# Drop data\n",
    "# Dropna\n",
    "\n",
    "# df1=df.dropna(inplace=False) # drops columns having missing values\n",
    "\n",
    "# #thresh\n",
    "# df1.dropna(thresh=2) #this will drop rows that are not having atlease values in two fields\n",
    "\n",
    "\n",
    "# #axis=1\n",
    "# df1.dropna(axis=1)\n",
    "\n",
    "#subset\n",
    "df2=df.dropna(subset=['last_name']) # drops the row having lastname na\n",
    "df2\n"
   ]
  },
  {
   "cell_type": "code",
   "execution_count": null,
   "metadata": {},
   "outputs": [],
   "source": [
    "# #fillna\n",
    "df_fillna=df.fillna('new_value')\n",
    "df_fillna\n",
    "# # filling only selected column na value with a new value\n",
    "df[['pre_movie_score','post_movie_score']]=df[['pre_movie_score','post_movie_score']].fillna(value=0)\n",
    "df"
   ]
  },
  {
   "cell_type": "code",
   "execution_count": 45,
   "metadata": {},
   "outputs": [
    {
     "name": "stdout",
     "output_type": "stream",
     "text": [
      "  first_name last_name   age  sex  pre_movie_score  post_movie_score\n",
      "0        Tom     Hanks  63.0    m              8.0              10.0\n",
      "1        NaN       NaN   NaN  NaN              NaN               NaN\n",
      "2       Hugh   Jackman  51.0    m              NaN               NaN\n",
      "3      Oprah   Winfrey  66.0    f              6.0               8.0\n",
      "4       Emma     Stone  31.0    f              7.0               9.0\n",
      "  first_name last_name   age  sex  pre_movie_score  post_movie_score\n",
      "0        Tom     Hanks  63.0    m              8.0              10.0\n",
      "1        NaN       NaN   NaN  NaN              7.0               NaN\n",
      "2       Hugh   Jackman  51.0    m              7.0               NaN\n",
      "3      Oprah   Winfrey  66.0    f              6.0               8.0\n",
      "4       Emma     Stone  31.0    f              7.0               9.0\n"
     ]
    }
   ],
   "source": [
    "# to fill the average, for nan values\n",
    "print(df)\n",
    "# df.fillna[df.mean()]\n",
    "df['pre_movie_score']=df['pre_movie_score'].fillna(df['pre_movie_score'].mean())\n",
    "# print(df['pre_movie_score'].mean())\n",
    "print(df)"
   ]
  },
  {
   "cell_type": "code",
   "execution_count": null,
   "metadata": {},
   "outputs": [],
   "source": [
    "sr= df['pre_movie_score']\n",
    "sr\n",
    "sr.interpolate()\n",
    "# df.interpolate(method='polynomial', order=2)"
   ]
  }
 ],
 "metadata": {
  "kernelspec": {
   "display_name": "Python 3.10.5 ('git_projects-raBy5UrY')",
   "language": "python",
   "name": "python3"
  },
  "language_info": {
   "codemirror_mode": {
    "name": "ipython",
    "version": 3
   },
   "file_extension": ".py",
   "mimetype": "text/x-python",
   "name": "python",
   "nbconvert_exporter": "python",
   "pygments_lexer": "ipython3",
   "version": "3.10.5"
  },
  "orig_nbformat": 4,
  "vscode": {
   "interpreter": {
    "hash": "2d89c9a6066a052ca538bccb4b5a7055b5412cda3e2ca36e3406c9ef9b187f5b"
   }
  }
 },
 "nbformat": 4,
 "nbformat_minor": 2
}
