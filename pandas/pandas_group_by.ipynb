{
 "cells": [
  {
   "cell_type": "code",
   "execution_count": 1,
   "metadata": {},
   "outputs": [],
   "source": [
    "import numpy as np\n",
    "import pandas as pd"
   ]
  },
  {
   "cell_type": "code",
   "execution_count": 2,
   "metadata": {},
   "outputs": [
    {
     "ename": "FileNotFoundError",
     "evalue": "[WinError 3] The system cannot find the path specified: 'C:\\\\Users\\\\jogym\\\\Documents\\\\Jogy\\\\Study\\\\python\\\\data\\\\Pandas_excel'",
     "output_type": "error",
     "traceback": [
      "\u001b[1;31m---------------------------------------------------------------------------\u001b[0m",
      "\u001b[1;31mFileNotFoundError\u001b[0m                         Traceback (most recent call last)",
      "\u001b[1;32mc:\\Users\\jogym\\OneDrive\\Documents\\Jogy\\Study\\python\\git_projects\\data-analysis\\pandas\\pandas_group_by.ipynb Cell 2\u001b[0m in \u001b[0;36m<cell line: 8>\u001b[1;34m()\u001b[0m\n\u001b[0;32m      <a href='vscode-notebook-cell:/c%3A/Users/jogym/OneDrive/Documents/Jogy/Study/python/git_projects/data-analysis/pandas/pandas_group_by.ipynb#W1sZmlsZQ%3D%3D?line=2'>3</a>\u001b[0m \u001b[39mdef\u001b[39;00m \u001b[39mlast_four\u001b[39m(num):\n\u001b[0;32m      <a href='vscode-notebook-cell:/c%3A/Users/jogym/OneDrive/Documents/Jogy/Study/python/git_projects/data-analysis/pandas/pandas_group_by.ipynb#W1sZmlsZQ%3D%3D?line=3'>4</a>\u001b[0m     \u001b[39mreturn\u001b[39;00m \u001b[39mstr\u001b[39m(num)[\u001b[39m-\u001b[39m\u001b[39m4\u001b[39m:]\n\u001b[1;32m----> <a href='vscode-notebook-cell:/c%3A/Users/jogym/OneDrive/Documents/Jogy/Study/python/git_projects/data-analysis/pandas/pandas_group_by.ipynb#W1sZmlsZQ%3D%3D?line=7'>8</a>\u001b[0m os\u001b[39m.\u001b[39;49mchdir(\u001b[39mr\u001b[39;49m\u001b[39m'\u001b[39;49m\u001b[39mC:\u001b[39;49m\u001b[39m\\\u001b[39;49m\u001b[39mUsers\u001b[39;49m\u001b[39m\\\u001b[39;49m\u001b[39mjogym\u001b[39;49m\u001b[39m\\\u001b[39;49m\u001b[39mDocuments\u001b[39;49m\u001b[39m\\\u001b[39;49m\u001b[39mJogy\u001b[39;49m\u001b[39m\\\u001b[39;49m\u001b[39mStudy\u001b[39;49m\u001b[39m\\\u001b[39;49m\u001b[39mpython\u001b[39;49m\u001b[39m\\\u001b[39;49m\u001b[39mdata\u001b[39;49m\u001b[39m\\\u001b[39;49m\u001b[39mPandas_excel\u001b[39;49m\u001b[39m'\u001b[39;49m)\n\u001b[0;32m      <a href='vscode-notebook-cell:/c%3A/Users/jogym/OneDrive/Documents/Jogy/Study/python/git_projects/data-analysis/pandas/pandas_group_by.ipynb#W1sZmlsZQ%3D%3D?line=8'>9</a>\u001b[0m cwd\u001b[39m=\u001b[39mos\u001b[39m.\u001b[39mgetcwd()\n\u001b[0;32m     <a href='vscode-notebook-cell:/c%3A/Users/jogym/OneDrive/Documents/Jogy/Study/python/git_projects/data-analysis/pandas/pandas_group_by.ipynb#W1sZmlsZQ%3D%3D?line=10'>11</a>\u001b[0m csv_path\u001b[39m=\u001b[39mcwd \u001b[39m+\u001b[39m os\u001b[39m.\u001b[39mpath\u001b[39m.\u001b[39msep \u001b[39m+\u001b[39m \u001b[39m'\u001b[39m\u001b[39mmovie_scores.csv\u001b[39m\u001b[39m'\u001b[39m\n",
      "\u001b[1;31mFileNotFoundError\u001b[0m: [WinError 3] The system cannot find the path specified: 'C:\\\\Users\\\\jogym\\\\Documents\\\\Jogy\\\\Study\\\\python\\\\data\\\\Pandas_excel'"
     ]
    }
   ],
   "source": [
    "import os \n",
    "# this is a function to return the last 4 digits of a credit card number\n",
    "def last_four(num):\n",
    "    return str(num)[-4:]\n",
    "\n",
    "\n",
    "\n",
    "os.chdir(r'C:\\Users\\jogym\\Documents\\Jogy\\Study\\python\\data\\Pandas_excel')\n",
    "cwd=os.getcwd()\n",
    "\n",
    "csv_path=cwd + os.path.sep + 'movie_scores.csv'\n",
    "df=pd.read_csv(csv_path)\n",
    "df"
   ]
  },
  {
   "cell_type": "markdown",
   "metadata": {},
   "source": [
    "Missing data\n",
    "    - Keep it\n",
    "    - Remove it\n",
    "    - Replace it\n",
    "\n",
    "    Drop a row or a column when lot of information is missing"
   ]
  },
  {
   "cell_type": "code",
   "execution_count": null,
   "metadata": {},
   "outputs": [],
   "source": [
    "# NaN with NA\n",
    "\n",
    "# np.NaN is replaced with np.NA\n",
    "# np.nan == np.nan is false\n",
    "# np.nan is np.nan is true\n",
    "\n",
    "#checking nulls\n",
    "\n",
    "# df.isnull() # returns true for all nulls\n",
    "\n",
    "df.notnull() # returns false for all nulls"
   ]
  },
  {
   "cell_type": "code",
   "execution_count": null,
   "metadata": {},
   "outputs": [],
   "source": [
    "#isnull\n",
    "#notnull\n",
    "\n",
    "df[df['pre_movie_score'].notnull()]\n",
    "\n",
    "df[df['pre_movie_score'].isnull() & df['first_name'].notnull()]"
   ]
  },
  {
   "cell_type": "code",
   "execution_count": null,
   "metadata": {},
   "outputs": [],
   "source": [
    "# Drop data\n",
    "# Dropna\n",
    "\n",
    "# df1=df.dropna(inplace=False) # drops columns having missing values\n",
    "\n",
    "# #thresh\n",
    "# df1.dropna(thresh=2) #this will drop rows that are not having atlease values in two fields\n",
    "\n",
    "\n",
    "# #axis=1\n",
    "# df1.dropna(axis=1)\n",
    "\n",
    "#subset\n",
    "df2=df.dropna(subset=['last_name']) # drops the row having lastname na\n",
    "df2\n"
   ]
  },
  {
   "cell_type": "code",
   "execution_count": null,
   "metadata": {},
   "outputs": [],
   "source": [
    "# #fillna\n",
    "df_fillna=df.fillna('new_value')\n",
    "df_fillna\n",
    "# # filling only selected column na value with a new value\n",
    "df[['pre_movie_score','post_movie_score']]=df[['pre_movie_score','post_movie_score']].fillna(value=0)\n",
    "df"
   ]
  },
  {
   "cell_type": "code",
   "execution_count": null,
   "metadata": {},
   "outputs": [],
   "source": [
    "# to fill the average, for nan values\n",
    "print(df)\n",
    "# df.fillna[df.mean()]\n",
    "df['pre_movie_score']=df['pre_movie_score'].fillna(df['pre_movie_score'].mean())\n",
    "# print(df['pre_movie_score'].mean())\n",
    "print(df)"
   ]
  },
  {
   "cell_type": "code",
   "execution_count": null,
   "metadata": {},
   "outputs": [],
   "source": [
    "sr= df['pre_movie_score']\n",
    "sr\n",
    "sr.interpolate()\n",
    "# df.interpolate(method='polynomial', order=2)"
   ]
  },
  {
   "cell_type": "code",
   "execution_count": 4,
   "metadata": {},
   "outputs": [
    {
     "ename": "FileNotFoundError",
     "evalue": "[WinError 3] The system cannot find the path specified: 'C:\\\\Users\\\\jogym\\\\Documents\\\\Jogy\\\\Study\\\\python\\\\data\\\\Pandas_excel'",
     "output_type": "error",
     "traceback": [
      "\u001b[1;31m---------------------------------------------------------------------------\u001b[0m",
      "\u001b[1;31mFileNotFoundError\u001b[0m                         Traceback (most recent call last)",
      "\u001b[1;32mc:\\Users\\jogym\\OneDrive\\Documents\\Jogy\\Study\\python\\git_projects\\data-analysis\\pandas\\pandas_group_by.ipynb Cell 10\u001b[0m in \u001b[0;36m<cell line: 3>\u001b[1;34m()\u001b[0m\n\u001b[0;32m      <a href='vscode-notebook-cell:/c%3A/Users/jogym/OneDrive/Documents/Jogy/Study/python/git_projects/data-analysis/pandas/pandas_group_by.ipynb#X12sZmlsZQ%3D%3D?line=0'>1</a>\u001b[0m \u001b[39m# os.chdir(r'C:\\Users\\jogym\\Documents\\Jogy\\Study\\python\\data\\Pandas_excel')\u001b[39;00m\n\u001b[0;32m      <a href='vscode-notebook-cell:/c%3A/Users/jogym/OneDrive/Documents/Jogy/Study/python/git_projects/data-analysis/pandas/pandas_group_by.ipynb#X12sZmlsZQ%3D%3D?line=1'>2</a>\u001b[0m cwd\u001b[39m=\u001b[39mos\u001b[39m.\u001b[39mgetcwd()\n\u001b[1;32m----> <a href='vscode-notebook-cell:/c%3A/Users/jogym/OneDrive/Documents/Jogy/Study/python/git_projects/data-analysis/pandas/pandas_group_by.ipynb#X12sZmlsZQ%3D%3D?line=2'>3</a>\u001b[0m os\u001b[39m.\u001b[39;49mchdir(\u001b[39mr\u001b[39;49m\u001b[39m'\u001b[39;49m\u001b[39mC:\u001b[39;49m\u001b[39m\\\u001b[39;49m\u001b[39mUsers\u001b[39;49m\u001b[39m\\\u001b[39;49m\u001b[39mjogym\u001b[39;49m\u001b[39m\\\u001b[39;49m\u001b[39mDocuments\u001b[39;49m\u001b[39m\\\u001b[39;49m\u001b[39mJogy\u001b[39;49m\u001b[39m\\\u001b[39;49m\u001b[39mStudy\u001b[39;49m\u001b[39m\\\u001b[39;49m\u001b[39mpython\u001b[39;49m\u001b[39m\\\u001b[39;49m\u001b[39mdata\u001b[39;49m\u001b[39m\\\u001b[39;49m\u001b[39mPandas_excel\u001b[39;49m\u001b[39m'\u001b[39;49m)\n\u001b[0;32m      <a href='vscode-notebook-cell:/c%3A/Users/jogym/OneDrive/Documents/Jogy/Study/python/git_projects/data-analysis/pandas/pandas_group_by.ipynb#X12sZmlsZQ%3D%3D?line=3'>4</a>\u001b[0m \u001b[39mprint\u001b[39m(cwd)\n",
      "\u001b[1;31mFileNotFoundError\u001b[0m: [WinError 3] The system cannot find the path specified: 'C:\\\\Users\\\\jogym\\\\Documents\\\\Jogy\\\\Study\\\\python\\\\data\\\\Pandas_excel'"
     ]
    }
   ],
   "source": [
    "os.chdir(r'C:\\Users\\jogym\\Documents\\Jogy\\Study\\python\\data\\Pandas_excel')\n",
    "cwd=os.getcwd()\n",
    "print(cwd)\n",
    "csv_path=cwd + os.path.sep + 'mpg.csv'\n",
    "df_mpg=pd.read_csv(csv_path)\n",
    "df_mpg"
   ]
  },
  {
   "cell_type": "markdown",
   "metadata": {},
   "source": [
    "multiple column group by        "
   ]
  },
  {
   "cell_type": "code",
   "execution_count": 3,
   "metadata": {},
   "outputs": [
    {
     "name": "stdout",
     "output_type": "stream",
     "text": [
      "['model_year', 'cylinders']\n",
      "[[70, 71, 72, 73, 74, 75, 76, 77, 78, 79, 80, 81, 82], [3, 4, 5, 6, 8]]\n"
     ]
    }
   ],
   "source": [
    "year_cylinders=df_mpg.groupby(['model_year', 'cylinders']).mean()\n",
    "print(year_cylinders.index.names)\n",
    "print(year_cylinders.index.levels)"
   ]
  },
  {
   "cell_type": "code",
   "execution_count": null,
   "metadata": {},
   "outputs": [],
   "source": [
    "grabbing rows"
   ]
  },
  {
   "cell_type": "code",
   "execution_count": 8,
   "metadata": {},
   "outputs": [
    {
     "data": {
      "text/plain": [
       "mpg               25.285714\n",
       "displacement     107.000000\n",
       "weight          2292.571429\n",
       "acceleration      16.000000\n",
       "origin             2.285714\n",
       "Name: (70, 4), dtype: float64"
      ]
     },
     "execution_count": 8,
     "metadata": {},
     "output_type": "execute_result"
    }
   ],
   "source": [
    "year_cylinders.loc[70]\n",
    "year_cylinders.loc[(70,4)]\n",
    "\n"
   ]
  },
  {
   "cell_type": "markdown",
   "metadata": {},
   "source": [
    "multi index group by"
   ]
  },
  {
   "cell_type": "code",
   "execution_count": 13,
   "metadata": {},
   "outputs": [
    {
     "ename": "SyntaxError",
     "evalue": "unmatched ']' (818444472.py, line 1)",
     "output_type": "error",
     "traceback": [
      "\u001b[1;36m  Input \u001b[1;32mIn [13]\u001b[1;36m\u001b[0m\n\u001b[1;33m    year_cylinders[year_cylinders['cylinders'].isin([6,8])]].groupby(['model_year'])\u001b[0m\n\u001b[1;37m                                                           ^\u001b[0m\n\u001b[1;31mSyntaxError\u001b[0m\u001b[1;31m:\u001b[0m unmatched ']'\n"
     ]
    }
   ],
   "source": [
    "year_cylinders[year_cylinders['cylinders'].isin([6,8])]].groupby(['model_year'])"
   ]
  }
 ],
 "metadata": {
  "kernelspec": {
   "display_name": "Python 3.10.5 ('git_projects-raBy5UrY')",
   "language": "python",
   "name": "python3"
  },
  "language_info": {
   "codemirror_mode": {
    "name": "ipython",
    "version": 3
   },
   "file_extension": ".py",
   "mimetype": "text/x-python",
   "name": "python",
   "nbconvert_exporter": "python",
   "pygments_lexer": "ipython3",
   "version": "3.10.7"
  },
  "orig_nbformat": 4,
  "vscode": {
   "interpreter": {
    "hash": "2d89c9a6066a052ca538bccb4b5a7055b5412cda3e2ca36e3406c9ef9b187f5b"
   }
  }
 },
 "nbformat": 4,
 "nbformat_minor": 2
}
